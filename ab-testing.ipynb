{
 "cells": [
  {
   "cell_type": "markdown",
   "metadata": {
    "collapsed": true
   },
   "source": [
    "# A/B - Testing\n",
    " \n",
    "Cette présentation est inspirée du cours de Udacity sur l'[A/B testing](https://www.udacity.com/course/ab-testing--ud257)\n",
    "\n",
    "Un A/B testing est un test qui vise comparer deux versions d'un même objet dans le but de déterminer la plus efficace.\n",
    "Par exemple, il permet aux marketeurs de déterminer quelle version d’une page web est celle qui convertit le plus de visiteurs en acheteurs.\n",
    "\n",
    "L'A/B testing permet de savoir si les différences de résultats sont dues aux modifications apportées et non au hasard. C'est un outil d'aide à la décision.\n",
    "\n",
    "\n",
    "## Données\n",
    "\n",
    "Les individus du test doivent être aléatoirement en deux groupes :\n",
    "\n",
    "* Groupe de contrôle (A) : groupe d'individus qui utilisent la version actuelle\n",
    "* Groupe de traitement (B) : groupe d'individus qui utilisent la nouvelle version\n",
    "\n",
    "## Test d'égalité de proportions\n",
    "\n",
    "Ce rappel sur le test d'égalité de proportion permet de mieux comprendre les calculs effectués au cours d'un AB-test. On utilise les notations suiventes : \n",
    "\n",
    "* N : nombre total d'individu\n",
    "* N<sub>A</sub> : le nombre du groupe de contrôle\n",
    "* N<sub>B</sub> : le nombre du groupe de traitement\n",
    "* p<sub>A</sub> : le taux de conversion du groupe de contrôle \n",
    "* p<sub>B</sub> : le taux de conversion du groupe de traitement\n",
    "* P<sub>A</sub> : l'estimateur du taux de conversion du groupe de contrôle \n",
    "* P<sub>B</sub> : l'estimateur du taux  de conversion du groupe de traitement\n",
    "* d = p<sub>B</sub> - p<sub>A</sub> \n",
    "\n",
    "Les hypothèses à tester sont :\n",
    "\n",
    "* H<sub>0</sub> : p<sub>B</sub> - p<sub>A</sub> = 0 ou p<sub>B</sub> = p<sub>A</sub>\n",
    "* H<sub>1</sub> : p<sub>B</sub> - p<sub>A</sub> != 0\n",
    "\n",
    "L'hypothèse nulle permet de conclure :\n",
    "* La différence est significativement positive\n",
    "* La différence est significativement négative\n",
    "* Il n'y a pas de différence significative\n",
    "\n",
    "La différence entre P<sub>A</sub> et P<sub>B</sub> suit asymptotiquement une loi normale d'espèrance d. Sous l'H<sub>0</sub> d vaut 0, en divisant cette différence par l'écart-type on obtient une loi normale centrée réduite.\n",
    "\n",
    "<img src=\"images/stat_test.png\">\n",
    "\n",
    "La zone de rejet (|U| ≥ u<sub>1-α/2</sub>) avec un seuil `α` est définie ainsi:\n",
    "<img src=\"images/intervalle_confiance.png\">"
   ]
  },
  {
   "cell_type": "markdown",
   "metadata": {
    "collapsed": true
   },
   "source": [
    "**Sources :**\n",
    "\n",
    "[Cours A/B Testing sur Udacity](https://classroom.udacity.com/courses/ud257)  \n",
    "[Tests de comparaisons proportions, Yohann Foucher](http://www.divat.fr/images/Biostats/Teaching/DCEO2_Cours6_Comparaisons_Proportions.pdf)"
   ]
  },
  {
   "cell_type": "markdown",
   "metadata": {},
   "source": [
    "## Applications"
   ]
  },
  {
   "cell_type": "code",
   "execution_count": 1,
   "metadata": {},
   "outputs": [],
   "source": [
    "import math\n",
    "import pandas as pd\n",
    "import seaborn as sns\n",
    "import statsmodels.stats.api as sms\n",
    "import scipy.stats as ss \n",
    "import matplotlib.pyplot as plt\n",
    "import warnings\n",
    "\n",
    "warnings.filterwarnings('ignore')"
   ]
  },
  {
   "cell_type": "code",
   "execution_count": 2,
   "metadata": {},
   "outputs": [
    {
     "data": {
      "text/plain": [
       "(294478, 5)"
      ]
     },
     "execution_count": 2,
     "metadata": {},
     "output_type": "execute_result"
    }
   ],
   "source": [
    "data = pd.read_csv(\"data/ab_data.csv\")\n",
    "data.columns = data.columns.str.upper()\n",
    "data.shape"
   ]
  },
  {
   "cell_type": "code",
   "execution_count": 3,
   "metadata": {},
   "outputs": [
    {
     "data": {
      "text/html": [
       "<div>\n",
       "<style scoped>\n",
       "    .dataframe tbody tr th:only-of-type {\n",
       "        vertical-align: middle;\n",
       "    }\n",
       "\n",
       "    .dataframe tbody tr th {\n",
       "        vertical-align: top;\n",
       "    }\n",
       "\n",
       "    .dataframe thead th {\n",
       "        text-align: right;\n",
       "    }\n",
       "</style>\n",
       "<table border=\"1\" class=\"dataframe\">\n",
       "  <thead>\n",
       "    <tr style=\"text-align: right;\">\n",
       "      <th></th>\n",
       "      <th>USER_ID</th>\n",
       "      <th>TIMESTAMP</th>\n",
       "      <th>GROUP</th>\n",
       "      <th>LANDING_PAGE</th>\n",
       "      <th>CONVERTED</th>\n",
       "    </tr>\n",
       "  </thead>\n",
       "  <tbody>\n",
       "    <tr>\n",
       "      <th>0</th>\n",
       "      <td>851104</td>\n",
       "      <td>2017-01-21 22:11:48.556739</td>\n",
       "      <td>control</td>\n",
       "      <td>old_page</td>\n",
       "      <td>0</td>\n",
       "    </tr>\n",
       "    <tr>\n",
       "      <th>1</th>\n",
       "      <td>804228</td>\n",
       "      <td>2017-01-12 08:01:45.159739</td>\n",
       "      <td>control</td>\n",
       "      <td>old_page</td>\n",
       "      <td>0</td>\n",
       "    </tr>\n",
       "    <tr>\n",
       "      <th>2</th>\n",
       "      <td>661590</td>\n",
       "      <td>2017-01-11 16:55:06.154213</td>\n",
       "      <td>treatment</td>\n",
       "      <td>new_page</td>\n",
       "      <td>0</td>\n",
       "    </tr>\n",
       "    <tr>\n",
       "      <th>3</th>\n",
       "      <td>853541</td>\n",
       "      <td>2017-01-08 18:28:03.143765</td>\n",
       "      <td>treatment</td>\n",
       "      <td>new_page</td>\n",
       "      <td>0</td>\n",
       "    </tr>\n",
       "    <tr>\n",
       "      <th>4</th>\n",
       "      <td>864975</td>\n",
       "      <td>2017-01-21 01:52:26.210827</td>\n",
       "      <td>control</td>\n",
       "      <td>old_page</td>\n",
       "      <td>1</td>\n",
       "    </tr>\n",
       "  </tbody>\n",
       "</table>\n",
       "</div>"
      ],
      "text/plain": [
       "   USER_ID                   TIMESTAMP      GROUP LANDING_PAGE  CONVERTED\n",
       "0   851104  2017-01-21 22:11:48.556739    control     old_page          0\n",
       "1   804228  2017-01-12 08:01:45.159739    control     old_page          0\n",
       "2   661590  2017-01-11 16:55:06.154213  treatment     new_page          0\n",
       "3   853541  2017-01-08 18:28:03.143765  treatment     new_page          0\n",
       "4   864975  2017-01-21 01:52:26.210827    control     old_page          1"
      ]
     },
     "execution_count": 3,
     "metadata": {},
     "output_type": "execute_result"
    }
   ],
   "source": [
    "data.head()"
   ]
  },
  {
   "cell_type": "code",
   "execution_count": 4,
   "metadata": {},
   "outputs": [
    {
     "data": {
      "text/plain": [
       "0.12104245244060237"
      ]
     },
     "execution_count": 4,
     "metadata": {},
     "output_type": "execute_result"
    }
   ],
   "source": [
    " data['USER_ID'][ data['CONVERTED'] == 1].nunique() /data['USER_ID'].nunique()"
   ]
  },
  {
   "cell_type": "code",
   "execution_count": 5,
   "metadata": {},
   "outputs": [
    {
     "data": {
      "text/plain": [
       "USER_ID         0\n",
       "TIMESTAMP       0\n",
       "GROUP           0\n",
       "LANDING_PAGE    0\n",
       "CONVERTED       0\n",
       "dtype: int64"
      ]
     },
     "execution_count": 5,
     "metadata": {},
     "output_type": "execute_result"
    }
   ],
   "source": [
    "data.isnull().sum()"
   ]
  },
  {
   "cell_type": "code",
   "execution_count": 6,
   "metadata": {},
   "outputs": [
    {
     "data": {
      "text/plain": [
       "treatment    0.500126\n",
       "control      0.499874\n",
       "Name: GROUP, dtype: float64"
      ]
     },
     "execution_count": 6,
     "metadata": {},
     "output_type": "execute_result"
    }
   ],
   "source": [
    "data['GROUP'].value_counts(normalize=True)"
   ]
  },
  {
   "cell_type": "code",
   "execution_count": 7,
   "metadata": {},
   "outputs": [
    {
     "data": {
      "text/plain": [
       "old_page    0.5\n",
       "new_page    0.5\n",
       "Name: LANDING_PAGE, dtype: float64"
      ]
     },
     "execution_count": 7,
     "metadata": {},
     "output_type": "execute_result"
    }
   ],
   "source": [
    "data['LANDING_PAGE'].value_counts(normalize=True)"
   ]
  },
  {
   "cell_type": "markdown",
   "metadata": {},
   "source": [
    "Il y a un problème de données : les pourcentages ne correspondent pas:\n",
    "* Certains individus du groupe de traitement n'ont pas utilisés la nouvelle page"
   ]
  },
  {
   "cell_type": "code",
   "execution_count": 8,
   "metadata": {},
   "outputs": [
    {
     "data": {
      "text/plain": [
       "3893"
      ]
     },
     "execution_count": 8,
     "metadata": {},
     "output_type": "execute_result"
    }
   ],
   "source": [
    "# number of times the new_page in the landing_page and the treatment in the group do not line up\n",
    "data[((data['GROUP'] == 'treatment') == (data['LANDING_PAGE'] == 'new_page')) == False].shape[0]"
   ]
  },
  {
   "cell_type": "markdown",
   "metadata": {},
   "source": [
    "Suppression des données incorrectes"
   ]
  },
  {
   "cell_type": "code",
   "execution_count": 9,
   "metadata": {},
   "outputs": [
    {
     "data": {
      "text/plain": [
       "(290584, 5)"
      ]
     },
     "execution_count": 9,
     "metadata": {},
     "output_type": "execute_result"
    }
   ],
   "source": [
    "data = data.drop(data[((data['GROUP'] == 'treatment') == (data['LANDING_PAGE'] == 'new_page')) == False].index)\n",
    "data = data.drop_duplicates(subset=['USER_ID'])\n",
    "data.shape"
   ]
  },
  {
   "cell_type": "code",
   "execution_count": 10,
   "metadata": {},
   "outputs": [
    {
     "data": {
      "text/plain": [
       "treatment    0.500062\n",
       "control      0.499938\n",
       "Name: GROUP, dtype: float64"
      ]
     },
     "execution_count": 10,
     "metadata": {},
     "output_type": "execute_result"
    }
   ],
   "source": [
    "data['GROUP'].value_counts(normalize=True)"
   ]
  },
  {
   "cell_type": "code",
   "execution_count": 11,
   "metadata": {},
   "outputs": [
    {
     "data": {
      "text/plain": [
       "new_page    0.500062\n",
       "old_page    0.499938\n",
       "Name: LANDING_PAGE, dtype: float64"
      ]
     },
     "execution_count": 11,
     "metadata": {},
     "output_type": "execute_result"
    }
   ],
   "source": [
    "data['LANDING_PAGE'].value_counts(normalize=True)"
   ]
  },
  {
   "cell_type": "code",
   "execution_count": 12,
   "metadata": {},
   "outputs": [
    {
     "data": {
      "text/plain": [
       "0.11959708724499628"
      ]
     },
     "execution_count": 12,
     "metadata": {},
     "output_type": "execute_result"
    }
   ],
   "source": [
    "data['CONVERTED'].mean()"
   ]
  },
  {
   "cell_type": "code",
   "execution_count": 13,
   "metadata": {},
   "outputs": [
    {
     "data": {
      "text/plain": [
       "LANDING_PAGE\n",
       "new_page    0.118808\n",
       "old_page    0.120386\n",
       "Name: CONVERTED, dtype: float64"
      ]
     },
     "execution_count": 13,
     "metadata": {},
     "output_type": "execute_result"
    }
   ],
   "source": [
    "data.groupby(['LANDING_PAGE'])['CONVERTED'].mean()"
   ]
  },
  {
   "cell_type": "markdown",
   "metadata": {},
   "source": [
    "## A/B Testing"
   ]
  },
  {
   "cell_type": "code",
   "execution_count": 14,
   "metadata": {},
   "outputs": [
    {
     "name": "stdout",
     "output_type": "stream",
     "text": [
      "Probabilité groupe de controle: 0.1204\n",
      "Probabilité groupe de traitement: 0.1188\n",
      "Probabilité globale: 0.1196\n"
     ]
    }
   ],
   "source": [
    "data_g = data.groupby(['LANDING_PAGE'], as_index=True).agg(\n",
    "              {'USER_ID': 'count', 'CONVERTED' : sum}).rename(\n",
    "         columns={'USER_ID': 'VISITEURS', 'CONVERTED': 'CONVERSIONS'},\n",
    "         index={'new_page': 'traitement', 'old_page': 'controle'}).rename_axis(None, axis=0)\n",
    "data_g['PROBA'] = data_g['CONVERSIONS'] / data_g['VISITEURS']\n",
    "\n",
    "proba_globale = data_g['CONVERSIONS'].sum() / data_g['VISITEURS'].sum()\n",
    "proba_controle = data_g['PROBA']['controle']\n",
    "proba_traitement = data_g['PROBA']['traitement']\n",
    "nb_visiteurs_controle = data_g['VISITEURS']['controle']\n",
    "nb_visiteurs_traitement = data_g['VISITEURS']['controle']\n",
    "\n",
    "print('Probabilité groupe de controle: {:.4f}'.format(proba_controle))\n",
    "print('Probabilité groupe de traitement: {:.4f}'.format(proba_traitement))\n",
    "print('Probabilité globale: {:.4f}'.format(proba_globale))"
   ]
  },
  {
   "cell_type": "markdown",
   "metadata": {},
   "source": [
    "**Réalisons un test d'égalité des proportions**"
   ]
  },
  {
   "cell_type": "code",
   "execution_count": 15,
   "metadata": {},
   "outputs": [
    {
     "name": "stdout",
     "output_type": "stream",
     "text": [
      "L'intervalle d'acceptation sur U à 1 − α = 0.05 est IA = [-1.96, 1.96]\n"
     ]
    }
   ],
   "source": [
    "alpha = 0.05\n",
    "std = math.sqrt(proba_globale * (1 - proba_globale) * (1 / nb_visiteurs_controle + 1 / nb_visiteurs_traitement))\n",
    "u_alpha = ss.norm.ppf(1 - alpha / 2) #  quantile d’ordre 0.975 de la loi normale\n",
    "print(\"L'intervalle d'acceptation sur U à 1 − α = {:.2f} est IA = [{:.2f}, {:.2f}]\".format(alpha, -u_alpha, u_alpha))"
   ]
  },
  {
   "cell_type": "code",
   "execution_count": 16,
   "metadata": {},
   "outputs": [
    {
     "name": "stdout",
     "output_type": "stream",
     "text": [
      "Valeur de u : -1.3108\n"
     ]
    }
   ],
   "source": [
    "u = (proba_traitement - proba_controle) / std\n",
    "print('Valeur de u : {:.4f}'.format(u))"
   ]
  },
  {
   "cell_type": "code",
   "execution_count": 17,
   "metadata": {},
   "outputs": [
    {
     "name": "stdout",
     "output_type": "stream",
     "text": [
      "On ne rejette pas l'hypothèse nulle\n"
     ]
    }
   ],
   "source": [
    "if math.fabs(u) > u_alpha:\n",
    "    print(\"On rejette l'hypothèse nulle\")\n",
    "else:\n",
    "    print(\"On ne rejette pas l'hypothèse nulle\")"
   ]
  },
  {
   "cell_type": "markdown",
   "metadata": {},
   "source": [
    "**Réalisons l'AB-testing en suivant la méthode proposée dans le cours**"
   ]
  },
  {
   "cell_type": "code",
   "execution_count": 18,
   "metadata": {},
   "outputs": [],
   "source": [
    "d_min = 0.02 # On lance la version experimentale si on observe un changement de l'ordre de x%\n",
    "beta = 0.05\n",
    "alpha = 0.05\n",
    "sensibilite = 1 - beta"
   ]
  },
  {
   "cell_type": "code",
   "execution_count": 19,
   "metadata": {},
   "outputs": [
    {
     "name": "stdout",
     "output_type": "stream",
     "text": [
      "Taille minimum des groupes : 7357\n"
     ]
    }
   ],
   "source": [
    "effect_size = sms.proportion_effectsize(proba_controle, proba_controle + d_min)\n",
    "sample_size = sms.NormalIndPower().solve_power(effect_size=effect_size,\n",
    "                                               power=sensibilite, \n",
    "                                               alpha=alpha,\n",
    "                                               ratio=1)\n",
    "print(\"Taille minimum des groupes :\", round(sample_size))"
   ]
  },
  {
   "cell_type": "markdown",
   "metadata": {},
   "source": [
    "L'objectif est de trouver un intervalle de confiance pour la différence entre les deux proportions. Pour conclure, il faut comparer d_min."
   ]
  },
  {
   "cell_type": "code",
   "execution_count": 20,
   "metadata": {},
   "outputs": [
    {
     "name": "stdout",
     "output_type": "stream",
     "text": [
      "Valeur estimee de d : -0.0016\n",
      "L'intervalle confiance pour d à 1 − α = 0.05 est IC = [-0.00394, 0.00078]\n"
     ]
    }
   ],
   "source": [
    "d_estime = (proba_traitement - proba_controle)\n",
    "marge = std * u_alpha\n",
    "borne_inf = d_estime - marge\n",
    "borne_sup = d_estime + marge\n",
    "\n",
    "print('Valeur estimee de d : {:.4f}'.format(d_estime))\n",
    "\n",
    "print(\"L'intervalle confiance pour d à 1 − α = {:.2f} est IC = [{:.5f}, {:.5f}]\".format(alpha, borne_inf, borne_sup))"
   ]
  },
  {
   "cell_type": "markdown",
   "metadata": {},
   "source": [
    "D'après l'intervalle de confiance de d, d est inférieure à d_min, on ne lance pas la version experimentale."
   ]
  }
 ],
 "metadata": {
  "kernelspec": {
   "display_name": "Python 3",
   "language": "python",
   "name": "python3"
  },
  "language_info": {
   "codemirror_mode": {
    "name": "ipython",
    "version": 3
   },
   "file_extension": ".py",
   "mimetype": "text/x-python",
   "name": "python",
   "nbconvert_exporter": "python",
   "pygments_lexer": "ipython3",
   "version": "3.7.9"
  }
 },
 "nbformat": 4,
 "nbformat_minor": 2
}
